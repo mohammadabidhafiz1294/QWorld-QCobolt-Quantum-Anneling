{
  "cells": [
    {
      "cell_type": "markdown",
      "id": "educational-petersburg",
      "metadata": {
        "id": "educational-petersburg"
      },
      "source": [
        "# Instructions\n",
        "\n",
        "The places where you have enter code, to answer the questions, are marked with `# YOUR CODE HERE`."
      ]
    },
    {
      "cell_type": "code",
      "source": [
        "!pip install dwave-ocean-sdk"
      ],
      "metadata": {
        "colab": {
          "base_uri": "https://localhost:8080/"
        },
        "id": "H7Wh7na4jHsM",
        "outputId": "d6992c78-f9f4-43a2-c74c-2c88a2ab0861"
      },
      "id": "H7Wh7na4jHsM",
      "execution_count": 1,
      "outputs": [
        {
          "output_type": "stream",
          "name": "stdout",
          "text": [
            "Collecting dwave-ocean-sdk\n",
            "  Downloading dwave_ocean_sdk-7.1.0-py3-none-any.whl.metadata (5.7 kB)\n",
            "Collecting dimod==0.12.16 (from dwave-ocean-sdk)\n",
            "  Downloading dimod-0.12.16-cp310-cp310-manylinux_2_17_x86_64.manylinux2014_x86_64.whl.metadata (4.0 kB)\n",
            "Collecting dwave-cloud-client==0.12.1 (from dwave-ocean-sdk)\n",
            "  Downloading dwave_cloud_client-0.12.1-py3-none-any.whl.metadata (5.5 kB)\n",
            "Collecting dwave-gate==0.3.2 (from dwave-ocean-sdk)\n",
            "  Downloading dwave_gate-0.3.2-cp310-cp310-manylinux_2_17_x86_64.manylinux2014_x86_64.whl.metadata (18 kB)\n",
            "Collecting dwave-greedy==0.3.0 (from dwave-ocean-sdk)\n",
            "  Downloading dwave_greedy-0.3.0-py3-none-any.whl.metadata (4.6 kB)\n",
            "Collecting dwave-hybrid==0.6.11 (from dwave-ocean-sdk)\n",
            "  Downloading dwave_hybrid-0.6.11-py3-none-any.whl.metadata (4.4 kB)\n",
            "Collecting dwave-inspector==0.5.0.post0 (from dwave-ocean-sdk)\n",
            "  Downloading dwave_inspector-0.5.0.post0-py3-none-any.whl.metadata (4.4 kB)\n",
            "Collecting dwave-neal==0.6.0 (from dwave-ocean-sdk)\n",
            "  Downloading dwave_neal-0.6.0-py3-none-any.whl.metadata (3.0 kB)\n",
            "Collecting dwave-networkx==0.8.15 (from dwave-ocean-sdk)\n",
            "  Downloading dwave_networkx-0.8.15-py3-none-any.whl.metadata (2.6 kB)\n",
            "Collecting dwave-optimization==0.2.0 (from dwave-ocean-sdk)\n",
            "  Downloading dwave_optimization-0.2.0-cp310-cp310-manylinux_2_24_x86_64.manylinux_2_28_x86_64.whl.metadata (3.8 kB)\n",
            "Collecting dwave-preprocessing==0.6.6 (from dwave-ocean-sdk)\n",
            "  Downloading dwave_preprocessing-0.6.6-cp310-cp310-manylinux_2_17_x86_64.manylinux2014_x86_64.whl.metadata (3.3 kB)\n",
            "Collecting dwave-samplers==1.3.0 (from dwave-ocean-sdk)\n",
            "  Downloading dwave_samplers-1.3.0-cp310-cp310-manylinux_2_17_x86_64.manylinux2014_x86_64.whl.metadata (9.8 kB)\n",
            "Collecting dwave-system==1.25.0 (from dwave-ocean-sdk)\n",
            "  Downloading dwave_system-1.25.0-py3-none-any.whl.metadata (3.8 kB)\n",
            "Collecting dwave-tabu==0.5.0 (from dwave-ocean-sdk)\n",
            "  Downloading dwave_tabu-0.5.0-py3-none-any.whl.metadata (3.3 kB)\n",
            "Collecting dwavebinarycsp==0.3.0 (from dwave-ocean-sdk)\n",
            "  Downloading dwavebinarycsp-0.3.0-py3-none-any.whl.metadata (3.0 kB)\n",
            "Collecting minorminer==0.2.15 (from dwave-ocean-sdk)\n",
            "  Downloading minorminer-0.2.15-cp310-cp310-manylinux_2_17_x86_64.manylinux2014_x86_64.whl.metadata (20 kB)\n",
            "Collecting penaltymodel==1.1.0 (from dwave-ocean-sdk)\n",
            "  Downloading penaltymodel-1.1.0-py3-none-any.whl.metadata (6.5 kB)\n",
            "Requirement already satisfied: numpy>=1.17.3 in /usr/local/lib/python3.10/dist-packages (from dimod==0.12.16->dwave-ocean-sdk) (1.26.4)\n",
            "Requirement already satisfied: requests<3,>=2.25 in /usr/local/lib/python3.10/dist-packages (from requests[socks]<3,>=2.25->dwave-cloud-client==0.12.1->dwave-ocean-sdk) (2.32.3)\n",
            "Requirement already satisfied: urllib3<3,>=1.26 in /usr/local/lib/python3.10/dist-packages (from dwave-cloud-client==0.12.1->dwave-ocean-sdk) (2.0.7)\n",
            "Requirement already satisfied: pydantic<3,>=2 in /usr/local/lib/python3.10/dist-packages (from dwave-cloud-client==0.12.1->dwave-ocean-sdk) (2.8.2)\n",
            "Collecting homebase<2,>=1.0 (from dwave-cloud-client==0.12.1->dwave-ocean-sdk)\n",
            "  Downloading homebase-1.0.1-py2.py3-none-any.whl.metadata (3.3 kB)\n",
            "Requirement already satisfied: click<9,>=7.0 in /usr/local/lib/python3.10/dist-packages (from dwave-cloud-client==0.12.1->dwave-ocean-sdk) (8.1.7)\n",
            "Requirement already satisfied: python-dateutil<3,>=2.7 in /usr/local/lib/python3.10/dist-packages (from dwave-cloud-client==0.12.1->dwave-ocean-sdk) (2.8.2)\n",
            "Collecting plucky<0.5,>=0.4.3 (from dwave-cloud-client==0.12.1->dwave-ocean-sdk)\n",
            "  Downloading plucky-0.4.3-py2.py3-none-any.whl.metadata (4.4 kB)\n",
            "Collecting diskcache<6,>=5.2.1 (from dwave-cloud-client==0.12.1->dwave-ocean-sdk)\n",
            "  Downloading diskcache-5.6.3-py3-none-any.whl.metadata (20 kB)\n",
            "Requirement already satisfied: packaging>=19 in /usr/local/lib/python3.10/dist-packages (from dwave-cloud-client==0.12.1->dwave-ocean-sdk) (24.1)\n",
            "Requirement already satisfied: werkzeug<4,>=2.2 in /usr/local/lib/python3.10/dist-packages (from dwave-cloud-client==0.12.1->dwave-ocean-sdk) (3.0.3)\n",
            "Requirement already satisfied: typing-extensions<5,>=4.5.0 in /usr/local/lib/python3.10/dist-packages (from dwave-cloud-client==0.12.1->dwave-ocean-sdk) (4.12.2)\n",
            "Collecting authlib<2,>=1.2 (from dwave-cloud-client==0.12.1->dwave-ocean-sdk)\n",
            "  Downloading Authlib-1.3.1-py2.py3-none-any.whl.metadata (3.8 kB)\n",
            "Requirement already satisfied: importlib-metadata>=5.0.0 in /usr/local/lib/python3.10/dist-packages (from dwave-cloud-client==0.12.1->dwave-ocean-sdk) (8.2.0)\n",
            "Requirement already satisfied: networkx in /usr/local/lib/python3.10/dist-packages (from dwave-hybrid==0.6.11->dwave-ocean-sdk) (3.3)\n",
            "Requirement already satisfied: Flask<4,>=2.2 in /usr/local/lib/python3.10/dist-packages (from dwave-inspector==0.5.0.post0->dwave-ocean-sdk) (2.2.5)\n",
            "Collecting orjson>=3.10.0 (from dwave-inspector==0.5.0.post0->dwave-ocean-sdk)\n",
            "  Downloading orjson-3.10.7-cp310-cp310-manylinux_2_17_x86_64.manylinux2014_x86_64.whl.metadata (50 kB)\n",
            "\u001b[2K     \u001b[90m━━━━━━━━━━━━━━━━━━━━━━━━━━━━━━━━━━━━━━━━\u001b[0m \u001b[32m50.4/50.4 kB\u001b[0m \u001b[31m320.6 kB/s\u001b[0m eta \u001b[36m0:00:00\u001b[0m\n",
            "\u001b[?25hRequirement already satisfied: scipy>=1.7.3 in /usr/local/lib/python3.10/dist-packages (from dwave-system==1.25.0->dwave-ocean-sdk) (1.13.1)\n",
            "Collecting fasteners>=0.15 (from minorminer==0.2.15->dwave-ocean-sdk)\n",
            "  Downloading fasteners-0.19-py3-none-any.whl.metadata (4.9 kB)\n",
            "Requirement already satisfied: cryptography in /usr/local/lib/python3.10/dist-packages (from authlib<2,>=1.2->dwave-cloud-client==0.12.1->dwave-ocean-sdk) (42.0.8)\n",
            "Requirement already satisfied: Jinja2>=3.0 in /usr/local/lib/python3.10/dist-packages (from Flask<4,>=2.2->dwave-inspector==0.5.0.post0->dwave-ocean-sdk) (3.1.4)\n",
            "Requirement already satisfied: itsdangerous>=2.0 in /usr/local/lib/python3.10/dist-packages (from Flask<4,>=2.2->dwave-inspector==0.5.0.post0->dwave-ocean-sdk) (2.2.0)\n",
            "Requirement already satisfied: zipp>=0.5 in /usr/local/lib/python3.10/dist-packages (from importlib-metadata>=5.0.0->dwave-cloud-client==0.12.1->dwave-ocean-sdk) (3.19.2)\n",
            "Requirement already satisfied: annotated-types>=0.4.0 in /usr/local/lib/python3.10/dist-packages (from pydantic<3,>=2->dwave-cloud-client==0.12.1->dwave-ocean-sdk) (0.7.0)\n",
            "Requirement already satisfied: pydantic-core==2.20.1 in /usr/local/lib/python3.10/dist-packages (from pydantic<3,>=2->dwave-cloud-client==0.12.1->dwave-ocean-sdk) (2.20.1)\n",
            "Requirement already satisfied: six>=1.5 in /usr/local/lib/python3.10/dist-packages (from python-dateutil<3,>=2.7->dwave-cloud-client==0.12.1->dwave-ocean-sdk) (1.16.0)\n",
            "Requirement already satisfied: charset-normalizer<4,>=2 in /usr/local/lib/python3.10/dist-packages (from requests<3,>=2.25->requests[socks]<3,>=2.25->dwave-cloud-client==0.12.1->dwave-ocean-sdk) (3.3.2)\n",
            "Requirement already satisfied: idna<4,>=2.5 in /usr/local/lib/python3.10/dist-packages (from requests<3,>=2.25->requests[socks]<3,>=2.25->dwave-cloud-client==0.12.1->dwave-ocean-sdk) (3.7)\n",
            "Requirement already satisfied: certifi>=2017.4.17 in /usr/local/lib/python3.10/dist-packages (from requests<3,>=2.25->requests[socks]<3,>=2.25->dwave-cloud-client==0.12.1->dwave-ocean-sdk) (2024.7.4)\n",
            "Requirement already satisfied: PySocks!=1.5.7,>=1.5.6 in /usr/local/lib/python3.10/dist-packages (from requests[socks]<3,>=2.25->dwave-cloud-client==0.12.1->dwave-ocean-sdk) (1.7.1)\n",
            "Requirement already satisfied: MarkupSafe>=2.1.1 in /usr/local/lib/python3.10/dist-packages (from werkzeug<4,>=2.2->dwave-cloud-client==0.12.1->dwave-ocean-sdk) (2.1.5)\n",
            "Requirement already satisfied: cffi>=1.12 in /usr/local/lib/python3.10/dist-packages (from cryptography->authlib<2,>=1.2->dwave-cloud-client==0.12.1->dwave-ocean-sdk) (1.17.0)\n",
            "Requirement already satisfied: pycparser in /usr/local/lib/python3.10/dist-packages (from cffi>=1.12->cryptography->authlib<2,>=1.2->dwave-cloud-client==0.12.1->dwave-ocean-sdk) (2.22)\n",
            "Downloading dwave_ocean_sdk-7.1.0-py3-none-any.whl (8.4 kB)\n",
            "Downloading dimod-0.12.16-cp310-cp310-manylinux_2_17_x86_64.manylinux2014_x86_64.whl (9.0 MB)\n",
            "\u001b[2K   \u001b[90m━━━━━━━━━━━━━━━━━━━━━━━━━━━━━━━━━━━━━━━━\u001b[0m \u001b[32m9.0/9.0 MB\u001b[0m \u001b[31m18.7 MB/s\u001b[0m eta \u001b[36m0:00:00\u001b[0m\n",
            "\u001b[?25hDownloading dwave_cloud_client-0.12.1-py3-none-any.whl (150 kB)\n",
            "\u001b[2K   \u001b[90m━━━━━━━━━━━━━━━━━━━━━━━━━━━━━━━━━━━━━━━━\u001b[0m \u001b[32m150.9/150.9 kB\u001b[0m \u001b[31m4.7 MB/s\u001b[0m eta \u001b[36m0:00:00\u001b[0m\n",
            "\u001b[?25hDownloading dwave_gate-0.3.2-cp310-cp310-manylinux_2_17_x86_64.manylinux2014_x86_64.whl (1.5 MB)\n",
            "\u001b[2K   \u001b[90m━━━━━━━━━━━━━━━━━━━━━━━━━━━━━━━━━━━━━━━━\u001b[0m \u001b[32m1.5/1.5 MB\u001b[0m \u001b[31m32.2 MB/s\u001b[0m eta \u001b[36m0:00:00\u001b[0m\n",
            "\u001b[?25hDownloading dwave_greedy-0.3.0-py3-none-any.whl (10 kB)\n",
            "Downloading dwave_hybrid-0.6.11-py3-none-any.whl (77 kB)\n",
            "\u001b[2K   \u001b[90m━━━━━━━━━━━━━━━━━━━━━━━━━━━━━━━━━━━━━━━━\u001b[0m \u001b[32m77.1/77.1 kB\u001b[0m \u001b[31m2.6 MB/s\u001b[0m eta \u001b[36m0:00:00\u001b[0m\n",
            "\u001b[?25hDownloading dwave_inspector-0.5.0.post0-py3-none-any.whl (30 kB)\n",
            "Downloading dwave_neal-0.6.0-py3-none-any.whl (8.7 kB)\n",
            "Downloading dwave_networkx-0.8.15-py3-none-any.whl (102 kB)\n",
            "\u001b[2K   \u001b[90m━━━━━━━━━━━━━━━━━━━━━━━━━━━━━━━━━━━━━━━━\u001b[0m \u001b[32m102.3/102.3 kB\u001b[0m \u001b[31m2.8 MB/s\u001b[0m eta \u001b[36m0:00:00\u001b[0m\n",
            "\u001b[?25hDownloading dwave_optimization-0.2.0-cp310-cp310-manylinux_2_24_x86_64.manylinux_2_28_x86_64.whl (2.8 MB)\n",
            "\u001b[2K   \u001b[90m━━━━━━━━━━━━━━━━━━━━━━━━━━━━━━━━━━━━━━━━\u001b[0m \u001b[32m2.8/2.8 MB\u001b[0m \u001b[31m19.1 MB/s\u001b[0m eta \u001b[36m0:00:00\u001b[0m\n",
            "\u001b[?25hDownloading dwave_preprocessing-0.6.6-cp310-cp310-manylinux_2_17_x86_64.manylinux2014_x86_64.whl (3.3 MB)\n",
            "\u001b[2K   \u001b[90m━━━━━━━━━━━━━━━━━━━━━━━━━━━━━━━━━━━━━━━━\u001b[0m \u001b[32m3.3/3.3 MB\u001b[0m \u001b[31m24.4 MB/s\u001b[0m eta \u001b[36m0:00:00\u001b[0m\n",
            "\u001b[?25hDownloading dwave_samplers-1.3.0-cp310-cp310-manylinux_2_17_x86_64.manylinux2014_x86_64.whl (6.7 MB)\n",
            "\u001b[2K   \u001b[90m━━━━━━━━━━━━━━━━━━━━━━━━━━━━━━━━━━━━━━━━\u001b[0m \u001b[32m6.7/6.7 MB\u001b[0m \u001b[31m26.3 MB/s\u001b[0m eta \u001b[36m0:00:00\u001b[0m\n",
            "\u001b[?25hDownloading dwave_system-1.25.0-py3-none-any.whl (106 kB)\n",
            "\u001b[2K   \u001b[90m━━━━━━━━━━━━━━━━━━━━━━━━━━━━━━━━━━━━━━━━\u001b[0m \u001b[32m106.7/106.7 kB\u001b[0m \u001b[31m4.3 MB/s\u001b[0m eta \u001b[36m0:00:00\u001b[0m\n",
            "\u001b[?25hDownloading dwave_tabu-0.5.0-py3-none-any.whl (9.2 kB)\n",
            "Downloading dwavebinarycsp-0.3.0-py3-none-any.whl (35 kB)\n",
            "Downloading minorminer-0.2.15-cp310-cp310-manylinux_2_17_x86_64.manylinux2014_x86_64.whl (3.3 MB)\n",
            "\u001b[2K   \u001b[90m━━━━━━━━━━━━━━━━━━━━━━━━━━━━━━━━━━━━━━━━\u001b[0m \u001b[32m3.3/3.3 MB\u001b[0m \u001b[31m17.0 MB/s\u001b[0m eta \u001b[36m0:00:00\u001b[0m\n",
            "\u001b[?25hDownloading penaltymodel-1.1.0-py3-none-any.whl (36 kB)\n",
            "Downloading Authlib-1.3.1-py2.py3-none-any.whl (223 kB)\n",
            "\u001b[2K   \u001b[90m━━━━━━━━━━━━━━━━━━━━━━━━━━━━━━━━━━━━━━━━\u001b[0m \u001b[32m223.8/223.8 kB\u001b[0m \u001b[31m6.3 MB/s\u001b[0m eta \u001b[36m0:00:00\u001b[0m\n",
            "\u001b[?25hDownloading diskcache-5.6.3-py3-none-any.whl (45 kB)\n",
            "\u001b[2K   \u001b[90m━━━━━━━━━━━━━━━━━━━━━━━━━━━━━━━━━━━━━━━━\u001b[0m \u001b[32m45.5/45.5 kB\u001b[0m \u001b[31m2.1 MB/s\u001b[0m eta \u001b[36m0:00:00\u001b[0m\n",
            "\u001b[?25hDownloading fasteners-0.19-py3-none-any.whl (18 kB)\n",
            "Downloading homebase-1.0.1-py2.py3-none-any.whl (11 kB)\n",
            "Downloading orjson-3.10.7-cp310-cp310-manylinux_2_17_x86_64.manylinux2014_x86_64.whl (141 kB)\n",
            "\u001b[2K   \u001b[90m━━━━━━━━━━━━━━━━━━━━━━━━━━━━━━━━━━━━━━━━\u001b[0m \u001b[32m141.9/141.9 kB\u001b[0m \u001b[31m3.9 MB/s\u001b[0m eta \u001b[36m0:00:00\u001b[0m\n",
            "\u001b[?25hDownloading plucky-0.4.3-py2.py3-none-any.whl (10 kB)\n",
            "Installing collected packages: plucky, homebase, orjson, fasteners, dwave-optimization, dwave-gate, diskcache, dimod, penaltymodel, dwave-samplers, dwave-preprocessing, dwave-networkx, minorminer, dwavebinarycsp, dwave-tabu, dwave-neal, dwave-greedy, authlib, dwave-cloud-client, dwave-system, dwave-inspector, dwave-hybrid, dwave-ocean-sdk\n",
            "Successfully installed authlib-1.3.1 dimod-0.12.16 diskcache-5.6.3 dwave-cloud-client-0.12.1 dwave-gate-0.3.2 dwave-greedy-0.3.0 dwave-hybrid-0.6.11 dwave-inspector-0.5.0.post0 dwave-neal-0.6.0 dwave-networkx-0.8.15 dwave-ocean-sdk-7.1.0 dwave-optimization-0.2.0 dwave-preprocessing-0.6.6 dwave-samplers-1.3.0 dwave-system-1.25.0 dwave-tabu-0.5.0 dwavebinarycsp-0.3.0 fasteners-0.19 homebase-1.0.1 minorminer-0.2.15 orjson-3.10.7 penaltymodel-1.1.0 plucky-0.4.3\n"
          ]
        }
      ]
    },
    {
      "cell_type": "markdown",
      "id": "fedb9ec3",
      "metadata": {
        "id": "fedb9ec3"
      },
      "source": [
        "## Question 1 (6 points)\n",
        "\n",
        "Given the following QUBO, complete the function `create_bqm` so that it returns the corresponding BQM.\n",
        "\n",
        "$$- 7x_1 - 2x_2 - 10x_3 - 4x_4 + 5x_1x_2 + 3x_1x_3 + 6x_2x_3 - 8x_3x_4 - 2$$\n",
        "\n",
        "\n",
        "The function `create_bqm` has\n",
        "\n",
        "- Input: None\n",
        "- Returns:\n",
        "    - A BQM instance\n"
      ]
    },
    {
      "cell_type": "code",
      "execution_count": 2,
      "id": "e6193cdb",
      "metadata": {
        "deletable": false,
        "nbgrader": {
          "cell_type": "code",
          "checksum": "a4ac8774577151fdadef7d49d7a8ffdb",
          "grade": false,
          "grade_id": "cell-519783454f9c6523",
          "locked": false,
          "schema_version": 3,
          "solution": true
        },
        "id": "e6193cdb"
      },
      "outputs": [],
      "source": [
        "from dimod import BQM\n",
        "\n",
        "def create_bqm():\n",
        "    # YOUR CODE HERE\n",
        "\n",
        "\n",
        "    vartype = 'BINARY'\n",
        "    linear = {'x1': -7, 'x2': -2, 'x3': -10, 'x4': -4}\n",
        "    quadratic = {('x1', 'x2'): 5, ('x1', 'x3'): 3, ('x2', 'x3'): 6, ('x3', 'x4'): -8}\n",
        "\n",
        "    offset = -2\n",
        "\n",
        "\n",
        "    bqm = BQM(linear, quadratic, offset, vartype)\n",
        "\n",
        "    # Do not modify anything below this line\n",
        "    return bqm"
      ]
    },
    {
      "cell_type": "code",
      "execution_count": 3,
      "id": "8b2ef48a",
      "metadata": {
        "colab": {
          "base_uri": "https://localhost:8080/"
        },
        "id": "8b2ef48a",
        "outputId": "95a30996-cc0c-46a7-f8fd-5db2c61259a5"
      },
      "outputs": [
        {
          "output_type": "stream",
          "name": "stdout",
          "text": [
            "BinaryQuadraticModel({'x1': -7.0, 'x2': -2.0, 'x3': -10.0, 'x4': -4.0}, {('x2', 'x1'): 5.0, ('x3', 'x1'): 3.0, ('x3', 'x2'): 6.0, ('x4', 'x3'): -8.0}, -2.0, 'BINARY')\n"
          ]
        }
      ],
      "source": [
        "# You can use this cell to call and check the output of the function\n",
        "\n",
        "print(create_bqm())"
      ]
    },
    {
      "cell_type": "code",
      "execution_count": 4,
      "id": "e1587a50",
      "metadata": {
        "deletable": false,
        "editable": false,
        "nbgrader": {
          "cell_type": "code",
          "checksum": "7a286b598bbe89fab85db133ff6c0861",
          "grade": true,
          "grade_id": "cell-bfefd43bc32d56e6",
          "locked": true,
          "points": 6,
          "schema_version": 3,
          "solution": false
        },
        "id": "e1587a50"
      },
      "outputs": [],
      "source": [
        "# hidden tests will be used for grading."
      ]
    },
    {
      "cell_type": "markdown",
      "id": "6fc9152d",
      "metadata": {
        "id": "6fc9152d"
      },
      "source": [
        "## Question 2 (6 points)\n",
        "\n",
        "Function `solve_Q` takes as input a matrix representation of a QUBO formulation. Complete the function `solve_Q` so that it returns the solution to the given problem. Use D-Wave's `ExactSolver()`.\n",
        "\n",
        "\n",
        "The function `solve_Q` has\n",
        "\n",
        "- Input:\n",
        "    - Q matrix representation of QUBO as an `numpy.array`.\n",
        "- Returns:\n",
        "    - Sample with the lowest energy (first sample of the SampleSet)\n"
      ]
    },
    {
      "cell_type": "code",
      "execution_count": 5,
      "id": "cce12dad",
      "metadata": {
        "deletable": false,
        "nbgrader": {
          "cell_type": "code",
          "checksum": "e04ceea9ff373ea4efa237e70f956d03",
          "grade": false,
          "grade_id": "cell-c6fc493496abe710",
          "locked": false,
          "schema_version": 3,
          "solution": true
        },
        "id": "cce12dad"
      },
      "outputs": [],
      "source": [
        "from dimod import BQM\n",
        "\n",
        "\n",
        "def solve_Q(Q):\n",
        "    # YOUR CODE HERE\n",
        "     Q_dict = {}\n",
        "     for i in range(Q.shape[0]):\n",
        "        for j in range(i, Q.shape[1]):\n",
        "            Q_dict[(i, j)] = Q[i, j]\n",
        "\n",
        "\n",
        "     bqm = BQM.from_qubo(Q_dict)\n",
        "\n",
        "\n",
        "     solver = ExactSolver()\n",
        "     sampleset = solver.sample(bqm)\n",
        "     sample_dict = sampleset.first.sample\n",
        "\n",
        "\n",
        "\n",
        "     sample_array = np.array([sample_dict[i] for i in range(len(sample_dict))])\n",
        "\n",
        "\n",
        "\n",
        "\n",
        "    # Do not modify anything below this line\n",
        "     return sampleset.first"
      ]
    },
    {
      "cell_type": "code",
      "execution_count": 6,
      "id": "7e561dd7",
      "metadata": {
        "colab": {
          "base_uri": "https://localhost:8080/"
        },
        "id": "7e561dd7",
        "outputId": "8f7f8b72-2012-46e1-e175-0cd3b9d8a750"
      },
      "outputs": [
        {
          "output_type": "stream",
          "name": "stdout",
          "text": [
            "Sample(sample={0: 0, 1: 0}, energy=0.0, num_occurrences=1)\n"
          ]
        }
      ],
      "source": [
        "# You can use this cell to call and check the output of the function\n",
        "import numpy as np\n",
        "from dimod.reference.samplers import ExactSolver\n",
        "\n",
        "\n",
        "Q = np.array([[1, 1], [0, 1]])\n",
        "print(solve_Q(Q))"
      ]
    },
    {
      "cell_type": "code",
      "execution_count": 7,
      "id": "9793fb7a",
      "metadata": {
        "deletable": false,
        "editable": false,
        "nbgrader": {
          "cell_type": "code",
          "checksum": "846b0a64cace0d7572f2263fe479fe53",
          "grade": true,
          "grade_id": "cell-bddecad407041e7b",
          "locked": true,
          "points": 6,
          "schema_version": 3,
          "solution": false
        },
        "id": "9793fb7a"
      },
      "outputs": [],
      "source": [
        "# hidden tests will be used for grading."
      ]
    },
    {
      "cell_type": "markdown",
      "id": "17843fc3",
      "metadata": {
        "id": "17843fc3"
      },
      "source": [
        "## Question 3 (6 points)\n",
        "\n",
        "You are given a graph $G$ in the next cell where the nodes are labeled $0,1,\\dots,8$. Create a BQM with `SPIN` variables to solve Max-Cut problem for the given graph. Variables should be named with the name of the correspoding node.\n",
        "\n",
        "The function `max_cut` has\n",
        "\n",
        "- Input: None\n",
        "- Returns:\n",
        "    - BQM with SPIN variables for graph `G`\n"
      ]
    },
    {
      "cell_type": "code",
      "execution_count": 8,
      "id": "a5592fb5",
      "metadata": {
        "colab": {
          "base_uri": "https://localhost:8080/",
          "height": 533
        },
        "id": "a5592fb5",
        "outputId": "93d83f28-2671-4fe3-f82a-cddcd06da88d"
      },
      "outputs": [
        {
          "output_type": "execute_result",
          "data": {
            "text/plain": [
              "EdgeView([(0, 1), (0, 2), (0, 3), (1, 2), (1, 3), (2, 3), (3, 4), (4, 5), (5, 6), (6, 7), (7, 8)])"
            ]
          },
          "metadata": {},
          "execution_count": 8
        },
        {
          "output_type": "display_data",
          "data": {
            "text/plain": [
              "<Figure size 640x480 with 1 Axes>"
            ],
            "image/png": "[encoded data removed]"
          },
          "metadata": {}
        }
      ],
      "source": [
        "import networkx as nx\n",
        "\n",
        "G = nx.lollipop_graph(4, 5)\n",
        "nx.draw(G, with_labels=True)\n",
        "G.edges"
      ]
    },
    {
      "cell_type": "code",
      "execution_count": 9,
      "id": "e04b999b",
      "metadata": {
        "deletable": false,
        "nbgrader": {
          "cell_type": "code",
          "checksum": "9fb1431db7d41d1d0dce4cd65b6db9df",
          "grade": false,
          "grade_id": "cell-04b50f7066c6da97",
          "locked": false,
          "schema_version": 3,
          "solution": true
        },
        "id": "e04b999b"
      },
      "outputs": [],
      "source": [
        "from dimod import BQM\n",
        "\n",
        "\n",
        "def max_cut():\n",
        "    # YOUR CODE HERE\n",
        "    bqm = BQM('SPIN')\n",
        "\n",
        "\n",
        "    for node in G.nodes:\n",
        "        bqm.add_variable(node, 0)\n",
        "\n",
        "    for edge in G.edges:\n",
        "        u, v = edge\n",
        "        bqm.add_interaction(u, v, 1)\n",
        "    # Do not modify anything below this line\n",
        "    return bqm"
      ]
    },
    {
      "cell_type": "code",
      "execution_count": 10,
      "id": "c19ddac9",
      "metadata": {
        "colab": {
          "base_uri": "https://localhost:8080/"
        },
        "id": "c19ddac9",
        "outputId": "7dccd300-2de0-4a0b-dd62-0352349415db"
      },
      "outputs": [
        {
          "output_type": "stream",
          "name": "stdout",
          "text": [
            "BinaryQuadraticModel({0: 0.0, 1: 0.0, 2: 0.0, 3: 0.0, 4: 0.0, 5: 0.0, 6: 0.0, 7: 0.0, 8: 0.0}, {(1, 0): 1.0, (2, 0): 1.0, (2, 1): 1.0, (3, 0): 1.0, (3, 1): 1.0, (3, 2): 1.0, (4, 3): 1.0, (5, 4): 1.0, (6, 5): 1.0, (7, 6): 1.0, (8, 7): 1.0}, 0.0, 'SPIN')\n"
          ]
        }
      ],
      "source": [
        "# You can use this cell to call and check the output of the function\n",
        "print(max_cut())"
      ]
    },
    {
      "cell_type": "code",
      "execution_count": 11,
      "id": "42f66c03",
      "metadata": {
        "deletable": false,
        "editable": false,
        "nbgrader": {
          "cell_type": "code",
          "checksum": "4b940c935a9203e433a62eda7bd0415b",
          "grade": true,
          "grade_id": "cell-c0db5152684f0877",
          "locked": true,
          "points": 6,
          "schema_version": 3,
          "solution": false
        },
        "id": "42f66c03"
      },
      "outputs": [],
      "source": [
        "# hidden tests will be used for grading.\n",
        "# If this cell results in an error, your implementation is incorrect"
      ]
    },
    {
      "cell_type": "code",
      "execution_count": 11,
      "id": "b822a8a2-96be-4584-9e4e-7b388d453d24",
      "metadata": {
        "id": "b822a8a2-96be-4584-9e4e-7b388d453d24"
      },
      "outputs": [],
      "source": []
    }
  ],
  "metadata": {
    "kernelspec": {
      "display_name": "Python 3 (ipykernel)",
      "language": "python",
      "name": "python3"
    },
    "language_info": {
      "codemirror_mode": {
        "name": "ipython",
        "version": 3
      },
      "file_extension": ".py",
      "mimetype": "text/x-python",
      "name": "python",
      "nbconvert_exporter": "python",
      "pygments_lexer": "ipython3",
      "version": "3.12.3"
    },
    "colab": {
      "provenance": []
    }
  },
  "nbformat": 4,
  "nbformat_minor": 5
}